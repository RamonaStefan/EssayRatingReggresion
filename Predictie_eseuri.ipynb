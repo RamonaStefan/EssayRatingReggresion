{
  "nbformat": 4,
  "nbformat_minor": 0,
  "metadata": {
    "colab": {
      "name": "Predictie eseuri.ipynb",
      "provenance": []
    },
    "kernelspec": {
      "name": "python3",
      "display_name": "Python 3"
    }
  },
  "cells": [
    {
      "cell_type": "code",
      "metadata": {
        "colab": {
          "base_uri": "https://localhost:8080/",
          "height": 962
        },
        "id": "yPOm1Ta1iGWr",
        "outputId": "a301f5be-d828-4b6f-ecb7-287a65278e82"
      },
      "source": [
        "!pip install -U tensorflow\r\n",
        "!pip install -U sklearn"
      ],
      "execution_count": 15,
      "outputs": [
        {
          "output_type": "stream",
          "text": [
            "Collecting tensorflow\n",
            "\u001b[?25l  Downloading https://files.pythonhosted.org/packages/c2/14/3724e7316a065b79174b10e34471e21ebb6896efbb82f689651584e6f5da/tensorflow-2.4.1-cp36-cp36m-manylinux2010_x86_64.whl (394.3MB)\n",
            "\u001b[K     |████████████████████████████████| 394.3MB 42kB/s \n",
            "\u001b[?25hRequirement already satisfied, skipping upgrade: numpy~=1.19.2 in /usr/local/lib/python3.6/dist-packages (from tensorflow) (1.19.5)\n",
            "Requirement already satisfied, skipping upgrade: typing-extensions~=3.7.4 in /usr/local/lib/python3.6/dist-packages (from tensorflow) (3.7.4.3)\n",
            "Requirement already satisfied, skipping upgrade: absl-py~=0.10 in /usr/local/lib/python3.6/dist-packages (from tensorflow) (0.10.0)\n",
            "Requirement already satisfied, skipping upgrade: protobuf>=3.9.2 in /usr/local/lib/python3.6/dist-packages (from tensorflow) (3.12.4)\n",
            "Requirement already satisfied, skipping upgrade: opt-einsum~=3.3.0 in /usr/local/lib/python3.6/dist-packages (from tensorflow) (3.3.0)\n",
            "Requirement already satisfied, skipping upgrade: six~=1.15.0 in /usr/local/lib/python3.6/dist-packages (from tensorflow) (1.15.0)\n",
            "Requirement already satisfied, skipping upgrade: termcolor~=1.1.0 in /usr/local/lib/python3.6/dist-packages (from tensorflow) (1.1.0)\n",
            "Requirement already satisfied, skipping upgrade: wheel~=0.35 in /usr/local/lib/python3.6/dist-packages (from tensorflow) (0.36.2)\n",
            "Requirement already satisfied, skipping upgrade: grpcio~=1.32.0 in /usr/local/lib/python3.6/dist-packages (from tensorflow) (1.32.0)\n",
            "Requirement already satisfied, skipping upgrade: flatbuffers~=1.12.0 in /usr/local/lib/python3.6/dist-packages (from tensorflow) (1.12)\n",
            "Requirement already satisfied, skipping upgrade: gast==0.3.3 in /usr/local/lib/python3.6/dist-packages (from tensorflow) (0.3.3)\n",
            "Requirement already satisfied, skipping upgrade: h5py~=2.10.0 in /usr/local/lib/python3.6/dist-packages (from tensorflow) (2.10.0)\n",
            "Requirement already satisfied, skipping upgrade: tensorboard~=2.4 in /usr/local/lib/python3.6/dist-packages (from tensorflow) (2.4.0)\n",
            "Requirement already satisfied, skipping upgrade: tensorflow-estimator<2.5.0,>=2.4.0 in /usr/local/lib/python3.6/dist-packages (from tensorflow) (2.4.0)\n",
            "Requirement already satisfied, skipping upgrade: astunparse~=1.6.3 in /usr/local/lib/python3.6/dist-packages (from tensorflow) (1.6.3)\n",
            "Requirement already satisfied, skipping upgrade: google-pasta~=0.2 in /usr/local/lib/python3.6/dist-packages (from tensorflow) (0.2.0)\n",
            "Requirement already satisfied, skipping upgrade: wrapt~=1.12.1 in /usr/local/lib/python3.6/dist-packages (from tensorflow) (1.12.1)\n",
            "Requirement already satisfied, skipping upgrade: keras-preprocessing~=1.1.2 in /usr/local/lib/python3.6/dist-packages (from tensorflow) (1.1.2)\n",
            "Requirement already satisfied, skipping upgrade: setuptools in /usr/local/lib/python3.6/dist-packages (from protobuf>=3.9.2->tensorflow) (51.3.3)\n",
            "Requirement already satisfied, skipping upgrade: markdown>=2.6.8 in /usr/local/lib/python3.6/dist-packages (from tensorboard~=2.4->tensorflow) (3.3.3)\n",
            "Requirement already satisfied, skipping upgrade: requests<3,>=2.21.0 in /usr/local/lib/python3.6/dist-packages (from tensorboard~=2.4->tensorflow) (2.23.0)\n",
            "Requirement already satisfied, skipping upgrade: google-auth-oauthlib<0.5,>=0.4.1 in /usr/local/lib/python3.6/dist-packages (from tensorboard~=2.4->tensorflow) (0.4.2)\n",
            "Requirement already satisfied, skipping upgrade: tensorboard-plugin-wit>=1.6.0 in /usr/local/lib/python3.6/dist-packages (from tensorboard~=2.4->tensorflow) (1.7.0)\n",
            "Requirement already satisfied, skipping upgrade: werkzeug>=0.11.15 in /usr/local/lib/python3.6/dist-packages (from tensorboard~=2.4->tensorflow) (1.0.1)\n",
            "Requirement already satisfied, skipping upgrade: google-auth<2,>=1.6.3 in /usr/local/lib/python3.6/dist-packages (from tensorboard~=2.4->tensorflow) (1.17.2)\n",
            "Requirement already satisfied, skipping upgrade: importlib-metadata; python_version < \"3.8\" in /usr/local/lib/python3.6/dist-packages (from markdown>=2.6.8->tensorboard~=2.4->tensorflow) (3.3.0)\n",
            "Requirement already satisfied, skipping upgrade: idna<3,>=2.5 in /usr/local/lib/python3.6/dist-packages (from requests<3,>=2.21.0->tensorboard~=2.4->tensorflow) (2.10)\n",
            "Requirement already satisfied, skipping upgrade: certifi>=2017.4.17 in /usr/local/lib/python3.6/dist-packages (from requests<3,>=2.21.0->tensorboard~=2.4->tensorflow) (2020.12.5)\n",
            "Requirement already satisfied, skipping upgrade: urllib3!=1.25.0,!=1.25.1,<1.26,>=1.21.1 in /usr/local/lib/python3.6/dist-packages (from requests<3,>=2.21.0->tensorboard~=2.4->tensorflow) (1.24.3)\n",
            "Requirement already satisfied, skipping upgrade: chardet<4,>=3.0.2 in /usr/local/lib/python3.6/dist-packages (from requests<3,>=2.21.0->tensorboard~=2.4->tensorflow) (3.0.4)\n",
            "Requirement already satisfied, skipping upgrade: requests-oauthlib>=0.7.0 in /usr/local/lib/python3.6/dist-packages (from google-auth-oauthlib<0.5,>=0.4.1->tensorboard~=2.4->tensorflow) (1.3.0)\n",
            "Requirement already satisfied, skipping upgrade: pyasn1-modules>=0.2.1 in /usr/local/lib/python3.6/dist-packages (from google-auth<2,>=1.6.3->tensorboard~=2.4->tensorflow) (0.2.8)\n",
            "Requirement already satisfied, skipping upgrade: cachetools<5.0,>=2.0.0 in /usr/local/lib/python3.6/dist-packages (from google-auth<2,>=1.6.3->tensorboard~=2.4->tensorflow) (4.2.0)\n",
            "Requirement already satisfied, skipping upgrade: rsa<5,>=3.1.4; python_version >= \"3\" in /usr/local/lib/python3.6/dist-packages (from google-auth<2,>=1.6.3->tensorboard~=2.4->tensorflow) (4.6)\n",
            "Requirement already satisfied, skipping upgrade: zipp>=0.5 in /usr/local/lib/python3.6/dist-packages (from importlib-metadata; python_version < \"3.8\"->markdown>=2.6.8->tensorboard~=2.4->tensorflow) (3.4.0)\n",
            "Requirement already satisfied, skipping upgrade: oauthlib>=3.0.0 in /usr/local/lib/python3.6/dist-packages (from requests-oauthlib>=0.7.0->google-auth-oauthlib<0.5,>=0.4.1->tensorboard~=2.4->tensorflow) (3.1.0)\n",
            "Requirement already satisfied, skipping upgrade: pyasn1<0.5.0,>=0.4.6 in /usr/local/lib/python3.6/dist-packages (from pyasn1-modules>=0.2.1->google-auth<2,>=1.6.3->tensorboard~=2.4->tensorflow) (0.4.8)\n",
            "Installing collected packages: tensorflow\n",
            "  Found existing installation: tensorflow 2.4.0\n",
            "    Uninstalling tensorflow-2.4.0:\n",
            "      Successfully uninstalled tensorflow-2.4.0\n",
            "Successfully installed tensorflow-2.4.1\n"
          ],
          "name": "stdout"
        },
        {
          "output_type": "display_data",
          "data": {
            "application/vnd.colab-display-data+json": {
              "pip_warning": {
                "packages": [
                  "tensorflow"
                ]
              }
            }
          },
          "metadata": {
            "tags": []
          }
        },
        {
          "output_type": "stream",
          "text": [
            "Requirement already up-to-date: sklearn in /usr/local/lib/python3.6/dist-packages (0.0)\n",
            "Requirement already satisfied, skipping upgrade: scikit-learn in /usr/local/lib/python3.6/dist-packages (from sklearn) (0.22.2.post1)\n",
            "Requirement already satisfied, skipping upgrade: numpy>=1.11.0 in /usr/local/lib/python3.6/dist-packages (from scikit-learn->sklearn) (1.19.5)\n",
            "Requirement already satisfied, skipping upgrade: joblib>=0.11 in /usr/local/lib/python3.6/dist-packages (from scikit-learn->sklearn) (1.0.0)\n",
            "Requirement already satisfied, skipping upgrade: scipy>=0.17.0 in /usr/local/lib/python3.6/dist-packages (from scikit-learn->sklearn) (1.4.1)\n"
          ],
          "name": "stdout"
        }
      ]
    },
    {
      "cell_type": "code",
      "metadata": {
        "colab": {
          "base_uri": "https://localhost:8080/"
        },
        "id": "is8ohR9Fifz0",
        "outputId": "42e0b888-0570-41f9-bef0-bf1344bbb42f"
      },
      "source": [
        "from google.colab import drive\r\n",
        "drive.mount(\"/content/gdrive\", force_remount=True)\r\n",
        "PATH = \"/content/gdrive/My Drive/Facultate/SII\""
      ],
      "execution_count": 16,
      "outputs": [
        {
          "output_type": "stream",
          "text": [
            "Mounted at /content/gdrive\n"
          ],
          "name": "stdout"
        }
      ]
    },
    {
      "cell_type": "code",
      "metadata": {
        "colab": {
          "base_uri": "https://localhost:8080/"
        },
        "id": "OyW-IhXVig6k",
        "outputId": "8121b03f-d3f4-45b5-84d1-6bb522d81e54"
      },
      "source": [
        "import tensorflow as tf\r\n",
        "import numpy as np\r\n",
        "import os\r\n",
        "import pandas as pd\r\n",
        "from sklearn import metrics\r\n",
        "from sklearn.utils import shuffle\r\n",
        "from sklearn.model_selection import train_test_split\r\n",
        "from sklearn.pipeline import Pipeline\r\n",
        "from sklearn.feature_extraction.text import CountVectorizer\r\n",
        "from sklearn.feature_extraction.text import TfidfTransformer\r\n",
        "from sklearn.tree import DecisionTreeClassifier\r\n",
        "from sklearn.metrics import accuracy_score\r\n",
        "from tensorflow.keras.preprocessing.text import Tokenizer\r\n",
        "from tensorflow.keras.preprocessing.sequence import pad_sequences\r\n",
        "from tensorflow.keras.models import Model\r\n",
        "from tensorflow.keras.models import Sequential\r\n",
        "from tensorflow.keras.layers import LSTM, Activation, Dense, Dropout, Input, Embedding\r\n",
        "from tensorflow.keras.optimizers import RMSprop\r\n",
        "import matplotlib.pyplot as plt\r\n",
        "import string\r\n",
        "import nltk\r\n",
        "nltk.download('stopwords')\r\n",
        "nltk.download('punkt')\r\n",
        "from nltk.corpus import stopwords\r\n",
        "from nltk import tokenize\r\n",
        "from wordcloud import WordCloud\r\n",
        "import seaborn as sns\r\n",
        "import itertools\r\n",
        "import json\r\n",
        "import gensim\r\n",
        "from sklearn.metrics import classification_report, accuracy_score\r\n",
        "\r\n",
        "\r\n",
        "tf.config.list_physical_devices('GPU')"
      ],
      "execution_count": 17,
      "outputs": [
        {
          "output_type": "stream",
          "text": [
            "[nltk_data] Downloading package stopwords to /root/nltk_data...\n",
            "[nltk_data]   Package stopwords is already up-to-date!\n",
            "[nltk_data] Downloading package punkt to /root/nltk_data...\n",
            "[nltk_data]   Package punkt is already up-to-date!\n"
          ],
          "name": "stdout"
        },
        {
          "output_type": "execute_result",
          "data": {
            "text/plain": [
              "[]"
            ]
          },
          "metadata": {
            "tags": []
          },
          "execution_count": 17
        }
      ]
    },
    {
      "cell_type": "markdown",
      "metadata": {
        "id": "P8Dh6tPFdcOB"
      },
      "source": [
        ""
      ]
    },
    {
      "cell_type": "code",
      "metadata": {
        "id": "cGGCk_pvzpy7"
      },
      "source": [
        "# Function to create weight matrix from word2vec gensim model\r\n",
        "def get_weight_matrix(model, vocab):\r\n",
        "    # total vocabulary size plus 0 for unknown words\r\n",
        "    vocab_size = len(vocab) + 1\r\n",
        "    # define weight matrix dimensions with all 0\r\n",
        "    weight_matrix = np.zeros((vocab_size, EMBEDDING_DIM))\r\n",
        "    # step vocab, store vectors using the Tokenizer's integer mapping\r\n",
        "    for word, i in vocab.items():\r\n",
        "        weight_matrix[i] = model[word]\r\n",
        "    return weight_matrix"
      ],
      "execution_count": 18,
      "outputs": []
    },
    {
      "cell_type": "code",
      "metadata": {
        "id": "guerrIwGikP4"
      },
      "source": [
        "train = pd.read_json(os.path.join(PATH, \"referate-train.json\"))\r\n",
        "validate = pd.read_json(os.path.join(PATH, \"referate-dev.json\"))\r\n",
        "test = pd.read_json(os.path.join(PATH, \"referate-test.json\"))"
      ],
      "execution_count": 19,
      "outputs": []
    },
    {
      "cell_type": "code",
      "metadata": {
        "id": "WWqqVKy1jteC"
      },
      "source": [
        "# train = shuffle(train)\r\n",
        "# train = train.reset_index(drop=True)\r\n",
        "\r\n",
        "# test = shuffle(test)\r\n",
        "# test = test.reset_index(drop=True)\r\n",
        "\r\n",
        "# validate = shuffle(validate)\r\n",
        "# validate = validate.reset_index(drop=True)"
      ],
      "execution_count": null,
      "outputs": []
    },
    {
      "cell_type": "code",
      "metadata": {
        "id": "S_-f1oaZj_Qg"
      },
      "source": [
        "#Converting train data to gensim format, remove punctuation and stopwords\r\n",
        "X_test = []\r\n",
        "stop_words = set(nltk.corpus.stopwords.words(\"english\"))\r\n",
        "tokenizer = nltk.tokenize.RegexpTokenizer(r'\\w+')\r\n",
        "for par in test[\"text\"].values:\r\n",
        "    tmp = []\r\n",
        "    sentences = nltk.sent_tokenize(par)\r\n",
        "    for sent in sentences:\r\n",
        "        sent = sent.lower()\r\n",
        "        tokens = tokenizer.tokenize(sent)\r\n",
        "        filtered_words = [w.strip() for w in tokens if w not in stop_words and len(w) > 1]\r\n",
        "        tmp.extend(filtered_words)\r\n",
        "    X_test.append(tmp)"
      ],
      "execution_count": 20,
      "outputs": []
    },
    {
      "cell_type": "code",
      "metadata": {
        "id": "tb1NXtyukZ9X"
      },
      "source": [
        "y_train = train[\"grade\"].values\r\n",
        "#Converting train data to gensim format, remove punctuation and stopwords\r\n",
        "X_train = []\r\n",
        "stop_words = set(nltk.corpus.stopwords.words(\"english\"))\r\n",
        "tokenizer = nltk.tokenize.RegexpTokenizer(r'\\w+')\r\n",
        "for par in train[\"text\"].values:\r\n",
        "    tmp = []\r\n",
        "    sentences = nltk.sent_tokenize(par)\r\n",
        "    for sent in sentences:\r\n",
        "        sent = sent.lower()\r\n",
        "        tokens = tokenizer.tokenize(sent)\r\n",
        "        filtered_words = [w.strip() for w in tokens if w not in stop_words and len(w) > 1]\r\n",
        "        tmp.extend(filtered_words)\r\n",
        "    X_train.append(tmp)\r\n"
      ],
      "execution_count": 21,
      "outputs": []
    },
    {
      "cell_type": "code",
      "metadata": {
        "id": "8szgQs69kpcz"
      },
      "source": [
        "y_validate = validate[\"grade\"].values\r\n",
        "#Converting train data to gensim format, remove punctuation and stopwords\r\n",
        "X_validate = []\r\n",
        "stop_words = set(nltk.corpus.stopwords.words(\"english\"))\r\n",
        "tokenizer = nltk.tokenize.RegexpTokenizer(r'\\w+')\r\n",
        "for par in validate[\"text\"].values:\r\n",
        "    tmp = []\r\n",
        "    sentences = nltk.sent_tokenize(par)\r\n",
        "    for sent in sentences:\r\n",
        "        sent = sent.lower()\r\n",
        "        tokens = tokenizer.tokenize(sent)\r\n",
        "        filtered_words = [w.strip() for w in tokens if w not in stop_words and len(w) > 1]\r\n",
        "        tmp.extend(filtered_words)\r\n",
        "    X_validate.append(tmp)\r\n"
      ],
      "execution_count": 22,
      "outputs": []
    },
    {
      "cell_type": "code",
      "metadata": {
        "id": "tek-kem7x6Yb"
      },
      "source": [
        "df = pd.concat([train, test, validate])"
      ],
      "execution_count": 23,
      "outputs": []
    },
    {
      "cell_type": "code",
      "metadata": {
        "id": "qG18pfuoyS1Y"
      },
      "source": [
        "#Converting train data to gensim format, remove punctuation and stopwords\r\n",
        "X = []\r\n",
        "stop_words = set(nltk.corpus.stopwords.words(\"english\"))\r\n",
        "tokenizer = nltk.tokenize.RegexpTokenizer(r'\\w+')\r\n",
        "for par in df[\"text\"].values:\r\n",
        "    tmp = []\r\n",
        "    sentences = nltk.sent_tokenize(par)\r\n",
        "    for sent in sentences:\r\n",
        "        sent = sent.lower()\r\n",
        "        tokens = tokenizer.tokenize(sent)\r\n",
        "        filtered_words = [w.strip() for w in tokens if w not in stop_words and len(w) > 1]\r\n",
        "        tmp.extend(filtered_words)\r\n",
        "    X.append(tmp)\r\n"
      ],
      "execution_count": 24,
      "outputs": []
    },
    {
      "cell_type": "code",
      "metadata": {
        "id": "eUtGJPRok9w-"
      },
      "source": [
        "# Dimension of generated vectors\r\n",
        "EMBEDDING_DIM = 10\r\n",
        "w2v_model = gensim.models.Word2Vec(sentences=X, size=EMBEDDING_DIM, window=5, min_count=1)"
      ],
      "execution_count": 25,
      "outputs": []
    },
    {
      "cell_type": "code",
      "metadata": {
        "id": "zjkXJU6XlAbv",
        "colab": {
          "base_uri": "https://localhost:8080/"
        },
        "outputId": "0cc956ef-72c5-4d36-b71a-af529feee7cc"
      },
      "source": [
        "# Tokenizing Text -> Repsesenting each word by a number\r\n",
        "tokenizer = Tokenizer()\r\n",
        "tokenizer.fit_on_texts(X)\r\n",
        "word_index = tokenizer.word_index\r\n",
        "maxlen = 1000 \r\n",
        "vocab_size = len(tokenizer.word_index) + 1\r\n",
        "embedding_vectors = get_weight_matrix(w2v_model, word_index)"
      ],
      "execution_count": 26,
      "outputs": [
        {
          "output_type": "stream",
          "text": [
            "/usr/local/lib/python3.6/dist-packages/ipykernel_launcher.py:9: DeprecationWarning: Call to deprecated `__getitem__` (Method will be removed in 4.0.0, use self.wv.__getitem__() instead).\n",
            "  if __name__ == '__main__':\n"
          ],
          "name": "stderr"
        }
      ]
    },
    {
      "cell_type": "code",
      "metadata": {
        "id": "qCdZmQAjygUF"
      },
      "source": [
        "X_train = tokenizer.texts_to_sequences(X_train)\r\n",
        "X_test = tokenizer.texts_to_sequences(X_test)\r\n",
        "X_validate = tokenizer.texts_to_sequences(X_validate)\r\n"
      ],
      "execution_count": 27,
      "outputs": []
    },
    {
      "cell_type": "code",
      "metadata": {
        "id": "MIQgr5V2lFcy"
      },
      "source": [
        "X_train = pad_sequences(X_train, maxlen=maxlen)\r\n",
        "X_test = pad_sequences(X_test, maxlen=maxlen)\r\n",
        "X_validate = pad_sequences(X_validate, maxlen=maxlen)\r\n"
      ],
      "execution_count": 28,
      "outputs": []
    },
    {
      "cell_type": "code",
      "metadata": {
        "id": "t__ewFoIrNEN"
      },
      "source": [
        "#Defining Neural Network\r\n",
        "model = Sequential()\r\n",
        "model.add(Embedding(vocab_size, output_dim=EMBEDDING_DIM, weights=[embedding_vectors], input_length=maxlen, trainable=False))\r\n",
        "model.add(LSTM(300, dropout=0.4, recurrent_dropout=0.4, input_shape=[1, 300], return_sequences=True))\r\n",
        "model.add(LSTM(64, recurrent_dropout=0.4))\r\n",
        "# model.add(Dropout(0.5))\r\n",
        "model.add(Dense(1, activation='relu'))\r\n",
        "model.compile(loss='mean_squared_error', optimizer='rmsprop', metrics=['mae', tf.keras.metrics.RootMeanSquaredError()])\r\n"
      ],
      "execution_count": 35,
      "outputs": []
    },
    {
      "cell_type": "code",
      "metadata": {
        "colab": {
          "base_uri": "https://localhost:8080/"
        },
        "id": "F4qcvCl0r0Zu",
        "outputId": "0cba94b8-0f6f-4acf-8a4b-30b423b55823"
      },
      "source": [
        "callback = tf.keras.callbacks.EarlyStopping(monitor='val_loss', patience=3)\r\n",
        "history = model.fit(X_train, y_train, validation_data=(X_validate, y_validate), epochs=50, callbacks=[callback])"
      ],
      "execution_count": 36,
      "outputs": [
        {
          "output_type": "stream",
          "text": [
            "Epoch 1/50\n",
            "148/148 [==============================] - 1453s 10s/step - loss: 5.1692 - mae: 1.4902 - root_mean_squared_error: 2.0626 - val_loss: 1.0403 - val_mae: 0.7785 - val_root_mean_squared_error: 1.0200\n",
            "Epoch 2/50\n",
            "148/148 [==============================] - 1449s 10s/step - loss: 1.1533 - mae: 0.8358 - root_mean_squared_error: 1.0735 - val_loss: 1.0572 - val_mae: 0.8412 - val_root_mean_squared_error: 1.0282\n",
            "Epoch 3/50\n",
            "148/148 [==============================] - 1454s 10s/step - loss: 1.1364 - mae: 0.8273 - root_mean_squared_error: 1.0656 - val_loss: 1.0194 - val_mae: 0.7928 - val_root_mean_squared_error: 1.0097\n",
            "Epoch 4/50\n",
            "148/148 [==============================] - 1459s 10s/step - loss: 1.1663 - mae: 0.8426 - root_mean_squared_error: 1.0797 - val_loss: 1.0512 - val_mae: 0.7781 - val_root_mean_squared_error: 1.0253\n",
            "Epoch 5/50\n",
            "148/148 [==============================] - 1450s 10s/step - loss: 1.2058 - mae: 0.8492 - root_mean_squared_error: 1.0978 - val_loss: 1.0116 - val_mae: 0.7972 - val_root_mean_squared_error: 1.0058\n",
            "Epoch 6/50\n",
            "148/148 [==============================] - 1454s 10s/step - loss: 1.1063 - mae: 0.8150 - root_mean_squared_error: 1.0512 - val_loss: 1.2433 - val_mae: 0.8305 - val_root_mean_squared_error: 1.1150\n",
            "Epoch 7/50\n",
            "148/148 [==============================] - 1446s 10s/step - loss: 1.2165 - mae: 0.8485 - root_mean_squared_error: 1.1028 - val_loss: 1.0109 - val_mae: 0.8065 - val_root_mean_squared_error: 1.0055\n",
            "Epoch 8/50\n",
            "148/148 [==============================] - 1452s 10s/step - loss: 1.1380 - mae: 0.8307 - root_mean_squared_error: 1.0663 - val_loss: 1.0202 - val_mae: 0.8055 - val_root_mean_squared_error: 1.0100\n",
            "Epoch 9/50\n",
            "148/148 [==============================] - 1455s 10s/step - loss: 1.0941 - mae: 0.8124 - root_mean_squared_error: 1.0449 - val_loss: 1.0157 - val_mae: 0.8011 - val_root_mean_squared_error: 1.0078\n",
            "Epoch 10/50\n",
            "148/148 [==============================] - 1461s 10s/step - loss: 1.1547 - mae: 0.8314 - root_mean_squared_error: 1.0745 - val_loss: 1.0318 - val_mae: 0.8087 - val_root_mean_squared_error: 1.0158\n"
          ],
          "name": "stdout"
        }
      ]
    },
    {
      "cell_type": "code",
      "metadata": {
        "id": "G3vUuO5jr0Zu"
      },
      "source": [
        "model.save(os.path.join(PATH, \"model_without_drop.h5\"))"
      ],
      "execution_count": 34,
      "outputs": []
    },
    {
      "cell_type": "code",
      "metadata": {
        "id": "05leu_xwaul6"
      },
      "source": [
        "# model = tf.keras.models.load_model(os.path.join(PATH, \"model.h5\"))\r\n",
        "# model = tf.keras.models.load_model(os.path.join(PATH, \"model2.h5\"))\r\n"
      ],
      "execution_count": null,
      "outputs": []
    },
    {
      "cell_type": "code",
      "metadata": {
        "colab": {
          "base_uri": "https://localhost:8080/"
        },
        "id": "ABQHbOrse5kh",
        "outputId": "5a3e7492-220b-42bd-9700-97958a94a4a7"
      },
      "source": [
        "print(history.history['loss'])\r\n",
        "print(\"----------------\")\r\n",
        "print(history.history['val_loss'])\r\n",
        "print(\"----------------\")\r\n",
        "\r\n",
        "print(history.history['mae'])\r\n",
        "print(\"----------------\")\r\n",
        "\r\n",
        "print(history.history['val_mae'])\r\n",
        "print(\"----------------\")\r\n",
        "\r\n",
        "print(history.history['root_mean_squared_error'])\r\n",
        "print(\"----------------\")\r\n",
        "\r\n",
        "print(history.history['val_root_mean_squared_error'])\r\n"
      ],
      "execution_count": 37,
      "outputs": [
        {
          "output_type": "stream",
          "text": [
            "[2.094651222229004, 1.21513831615448, 1.1897763013839722, 1.1688389778137207, 1.1716662645339966, 1.1680099964141846, 1.2026857137680054, 1.1722157001495361, 1.1542354822158813, 1.158101201057434]\n",
            "----------------\n",
            "[1.040299415588379, 1.0571644306182861, 1.0193963050842285, 1.0511974096298218, 1.0115854740142822, 1.2433096170425415, 1.0109480619430542, 1.0201784372329712, 1.015671968460083, 1.0318328142166138]\n",
            "----------------\n",
            "[1.0140204429626465, 0.854698896408081, 0.8430582284927368, 0.8381187915802002, 0.8381614089012146, 0.8374638557434082, 0.847831130027771, 0.8396908044815063, 0.8306443691253662, 0.832072377204895]\n",
            "----------------\n",
            "[0.7784740328788757, 0.8412215709686279, 0.792797863483429, 0.7780511379241943, 0.7972199320793152, 0.8305161595344543, 0.8064616918563843, 0.8054963946342468, 0.8010753393173218, 0.8087064623832703]\n",
            "----------------\n",
            "[1.4472910165786743, 1.1023330688476562, 1.0907686948776245, 1.0811285972595215, 1.0824353694915771, 1.0807451009750366, 1.0966702699661255, 1.0826890468597412, 1.074353575706482, 1.0761511325836182]\n",
            "----------------\n",
            "[1.0199507474899292, 1.0281850099563599, 1.0096515417099, 1.02527916431427, 1.005776047706604, 1.1150379180908203, 1.005459189414978, 1.0100388526916504, 1.0078054666519165, 1.0157917737960815]\n"
          ],
          "name": "stdout"
        }
      ]
    },
    {
      "cell_type": "code",
      "metadata": {
        "colab": {
          "base_uri": "https://localhost:8080/",
          "height": 530
        },
        "id": "4Sf-FvluWK0b",
        "outputId": "075319c1-01e5-4c44-eedb-70a25930cd01"
      },
      "source": [
        "plt.plot(history.history['loss'])\r\n",
        "plt.plot(history.history['val_loss'])\r\n",
        "plt.title('Model Loss')\r\n",
        "plt.legend(['Training', 'Validation'])\r\n",
        "plt.ylabel('Loss')\r\n",
        "plt.xlabel('Epochs')\r\n",
        "plt.xticks([0,1,2,3,4,5,6,7,8,9,10,11,12])"
      ],
      "execution_count": 39,
      "outputs": [
        {
          "output_type": "execute_result",
          "data": {
            "text/plain": [
              "([<matplotlib.axis.XTick at 0x7f6db4240940>,\n",
              "  <matplotlib.axis.XTick at 0x7f6db42408d0>,\n",
              "  <matplotlib.axis.XTick at 0x7f6db4240dd8>,\n",
              "  <matplotlib.axis.XTick at 0x7f6db429ec18>,\n",
              "  <matplotlib.axis.XTick at 0x7f6db0121320>,\n",
              "  <matplotlib.axis.XTick at 0x7f6db42573c8>,\n",
              "  <matplotlib.axis.XTick at 0x7f6db4257ba8>,\n",
              "  <matplotlib.axis.XTick at 0x7f6db06cfac8>,\n",
              "  <matplotlib.axis.XTick at 0x7f6db06cf128>,\n",
              "  <matplotlib.axis.XTick at 0x7f6db06cfcc0>,\n",
              "  <matplotlib.axis.XTick at 0x7f6dabc58550>,\n",
              "  <matplotlib.axis.XTick at 0x7f6dabc586d8>,\n",
              "  <matplotlib.axis.XTick at 0x7f6dabc58518>],\n",
              " <a list of 13 Text major ticklabel objects>)"
            ]
          },
          "metadata": {
            "tags": []
          },
          "execution_count": 39
        },
        {
          "output_type": "display_data",
          "data": {
            "image/png": "[encoded data removed]",
            "text/plain": [
              "<Figure size 432x288 with 1 Axes>"
            ]
          },
          "metadata": {
            "tags": [],
            "needs_background": "light"
          }
        }
      ]
    },
    {
      "cell_type": "markdown",
      "metadata": {
        "id": "hpP4INcPpyd7"
      },
      "source": [
        "## FARA DROP"
      ]
    },
    {
      "cell_type": "code",
      "metadata": {
        "id": "oDCd1Kt6o5a7"
      },
      "source": [
        "model = tf.keras.models.load_model(os.path.join(PATH, \"model_without_drop.h5\"))"
      ],
      "execution_count": 61,
      "outputs": []
    },
    {
      "cell_type": "code",
      "metadata": {
        "id": "PZlvmth6dE3x"
      },
      "source": [
        "y_test = model.predict(X_test)"
      ],
      "execution_count": 62,
      "outputs": []
    },
    {
      "cell_type": "code",
      "metadata": {
        "id": "sJ16yvdIMGTx"
      },
      "source": [
        "test['grade'] = y_test "
      ],
      "execution_count": 63,
      "outputs": []
    },
    {
      "cell_type": "code",
      "metadata": {
        "id": "LHzYjc2mMR50"
      },
      "source": [
        "test.to_json(os.path.join(PATH, \"rezultate_without_drop.json\"), orient='records')"
      ],
      "execution_count": 64,
      "outputs": []
    },
    {
      "cell_type": "code",
      "metadata": {
        "id": "Ek_L2KE5Mn8S"
      },
      "source": [
        "y_validate_2 = model.predict(X_validate)"
      ],
      "execution_count": 65,
      "outputs": []
    },
    {
      "cell_type": "code",
      "metadata": {
        "id": "5R_GG8Tyo8Y_"
      },
      "source": [
        "validate['grade'] = y_validate_2"
      ],
      "execution_count": 66,
      "outputs": []
    },
    {
      "cell_type": "code",
      "metadata": {
        "id": "gQ75fwykpRVa"
      },
      "source": [
        "validate.to_json(os.path.join(PATH, \"rezultate_validate_fara_drop.json\"), orient='records')"
      ],
      "execution_count": 67,
      "outputs": []
    },
    {
      "cell_type": "markdown",
      "metadata": {
        "id": "gPUFf-YDpiqx"
      },
      "source": [
        "## CU DROP"
      ]
    },
    {
      "cell_type": "code",
      "metadata": {
        "id": "oxxK8uNafNj-"
      },
      "source": [
        "model = tf.keras.models.load_model(os.path.join(PATH, \"model.h5\"))"
      ],
      "execution_count": 68,
      "outputs": []
    },
    {
      "cell_type": "code",
      "metadata": {
        "id": "iuJCGhSUpqqT"
      },
      "source": [
        "y_test = model.predict(X_test)"
      ],
      "execution_count": 69,
      "outputs": []
    },
    {
      "cell_type": "code",
      "metadata": {
        "id": "JF3-RhOapqqh"
      },
      "source": [
        "test['grade'] = y_test "
      ],
      "execution_count": 70,
      "outputs": []
    },
    {
      "cell_type": "code",
      "metadata": {
        "id": "H8bx8tConY1D"
      },
      "source": [
        "test.to_json(os.path.join(PATH, \"rezultate_cu_drop.json\"), orient='records')"
      ],
      "execution_count": 71,
      "outputs": []
    },
    {
      "cell_type": "code",
      "metadata": {
        "id": "5BG24iI7oeQ5"
      },
      "source": [
        "y_validate = model.predict(X_validate)"
      ],
      "execution_count": 72,
      "outputs": []
    },
    {
      "cell_type": "code",
      "metadata": {
        "id": "tf17O9s7oeQ8"
      },
      "source": [
        "validate['grade'] = y_validate "
      ],
      "execution_count": 73,
      "outputs": []
    },
    {
      "cell_type": "code",
      "metadata": {
        "id": "d3KfSlp4oeQ-"
      },
      "source": [
        "validate.to_json(os.path.join(PATH, \"rezultate_validate_cu_drop.json\"), orient='records')"
      ],
      "execution_count": 74,
      "outputs": []
    }
  ]
}